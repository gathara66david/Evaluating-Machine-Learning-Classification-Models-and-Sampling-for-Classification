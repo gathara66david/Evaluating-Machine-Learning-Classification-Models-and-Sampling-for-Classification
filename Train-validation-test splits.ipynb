{
 "cells": [
  {
   "cell_type": "code",
   "execution_count": 1,
   "metadata": {},
   "outputs": [],
   "source": [
    "#%pip install mlxtend"
   ]
  },
  {
   "cell_type": "code",
   "execution_count": null,
   "metadata": {},
   "outputs": [],
   "source": [
    "import pandas as pd \n",
    "from sklearn.model_selection import train_test_split\n",
    "from sklearn.linear_model import LogisticRegression\n",
    "from sklearn.naive_bayes import GaussianNB \n",
    "from sklearn.linear_model import LogisticRegressionCV \n",
    "from sklearn.neighbors import KNeighborsClassifier \n",
    "from sklearn.preprocessing import StandardScaler\n",
    "from sklearn.model_selection import cross_val_score\n",
    "from sklearn.metrics import cohen_kappa_score\n",
    "from sklearn.metrics import make_scorer\n",
    "from sklearn.metrics import confusion_matrix\n",
    "import swifter\n",
    "from sklearn.multioutput import MultiOutputClassifier \n",
    "from sklearn.metrics import multilabel_confusion_matrix, ConfusionMatrixDisplay\n",
    "from sklearn.metrics import classification_report\n",
    "from yellowbrick.classifier import ClassificationReport\n",
    "from yellowbrick.classifier.rocauc import roc_auc\n",
    "import numpy as np\n",
    "from yellowbrick.classifier.threshold import discrimination_threshold\n",
    "from sklearn.metrics import accuracy_score\n",
    "from mlxtend.plotting import plot_confusion_matrix as mlx_plot_cm\n",
    "from sklearn.preprocessing import StandardScaler"
   ]
  },
  {
   "cell_type": "code",
   "execution_count": null,
   "metadata": {},
   "outputs": [],
   "source": [
    "df = pd.read_excel(r\"C:\\Users\\David gathara marigi\\Downloads\\default of credit card clients.xls\", \n",
    "                   skiprows=1, \n",
    "                   index_col=0) \n",
    "target_col = 'default payment next month' \n",
    "features = df.drop(target_col, axis=1) \n",
    "targets = df[target_col]"
   ]
  },
  {
   "cell_type": "code",
   "execution_count": null,
   "metadata": {},
   "outputs": [],
   "source": [
    "x_train, x_test, y_train, y_test = train_test_split(features, \n",
    "                                                    targets, \n",
    "train_size=0.75,  \n",
    "stratify=targets)"
   ]
  },
  {
   "cell_type": "code",
   "execution_count": null,
   "metadata": {},
   "outputs": [],
   "source": [
    "lr_model = LogisticRegression(max_iter=1000) \n",
    "lr_model.fit(x_train, y_train)"
   ]
  },
  {
   "cell_type": "code",
   "execution_count": null,
   "metadata": {},
   "outputs": [],
   "source": [
    "# accuracy"
   ]
  },
  {
   "cell_type": "code",
   "execution_count": null,
   "metadata": {},
   "outputs": [],
   "source": [
    "print(lr_model.score(x_train, y_train)) \n",
    "print(lr_model.score(x_test, y_test))"
   ]
  },
  {
   "cell_type": "code",
   "execution_count": null,
   "metadata": {},
   "outputs": [],
   "source": [
    "df['default payment next month'].value_counts() / df.shape[0]"
   ]
  },
  {
   "cell_type": "code",
   "execution_count": null,
   "metadata": {},
   "outputs": [],
   "source": [
    "scaler = StandardScaler() \n",
    "scaled_features = scaler.fit_transform(features) \n",
    "gnb = GaussianNB() \n",
    "lr_cv = LogisticRegressionCV() \n",
    "lr_cv.fit(features, targets) \n",
    "lr_best_c = LogisticRegression(C=lr_cv.C_[0]) \n",
    "knn = KNeighborsClassifier()"
   ]
  },
  {
   "cell_type": "code",
   "execution_count": null,
   "metadata": {},
   "outputs": [],
   "source": [
    " \n",
    "print(cross_val_score(gnb, features, targets, \n",
    "n_jobs=-1).mean()) \n",
    "print(cross_val_score(lr_best_c, features, targets, \n",
    "n_jobs=-1).mean()) \n",
    "print(cross_val_score(knn, features, targets, \n",
    "n_jobs=-1).mean()) \n",
    "print(cross_val_score(knn, scaled_features, targets, \n",
    "n_jobs=-1).mean())"
   ]
  },
  {
   "cell_type": "code",
   "execution_count": null,
   "metadata": {},
   "outputs": [],
   "source": [
    "cohen_kappa_score(y_test, lr_model.predict(x_test))"
   ]
  },
  {
   "cell_type": "code",
   "execution_count": null,
   "metadata": {},
   "outputs": [],
   "source": [
    "print(cross_val_score(lr_model, \n",
    "                      features, \n",
    "                      targets, \n",
    "                      scoring=make_scorer(cohen_kappa_score), \n",
    "                      n_jobs=-1).mean())"
   ]
  },
  {
   "cell_type": "code",
   "execution_count": null,
   "metadata": {},
   "outputs": [],
   "source": [
    "import matplotlib.pyplot as plt"
   ]
  },
  {
   "cell_type": "code",
   "execution_count": null,
   "metadata": {},
   "outputs": [],
   "source": [
    "from sklearn.metrics import ConfusionMatrixDisplay\n",
    "ConfusionMatrixDisplay.from_estimator(lr_model, \n",
    "                                      x_test, \n",
    "                                      y_test, \n",
    "                                      cmap=plt.cm.Blues, \n",
    "                                      display_labels=['not defaulted', \n",
    "                                                       'defaulted'], \n",
    "                                      colorbar=False)"
   ]
  },
  {
   "cell_type": "code",
   "execution_count": null,
   "metadata": {},
   "outputs": [],
   "source": [
    "pay_0_target = df['PAY_0'].replace({i: 1 for i in range(1, \n",
    "9)}) \n",
    "pay_0_features = df.drop(['PAY_0', 'default payment next month'], axis=1) \n",
    "lr_multi = LogisticRegression(max_iter=1000) \n",
    "lr_multi.fit(pay_0_features, pay_0_target)"
   ]
  },
  {
   "cell_type": "code",
   "execution_count": null,
   "metadata": {},
   "outputs": [],
   "source": [
    "from sklearn.metrics import confusion_matrix"
   ]
  },
  {
   "cell_type": "code",
   "execution_count": null,
   "metadata": {},
   "outputs": [],
   "source": [
    "disp = ConfusionMatrixDisplay.from_estimator(lr_multi, \n",
    "                                             pay_0_features, \n",
    "                                             pay_0_target, \n",
    "                                             display_labels=['no consumption', \n",
    "                                                             'paid on time',  \n",
    "                                                             'revolving credit',  \n",
    "                                                             'late'], \n",
    "                                             cmap=plt.cm.Blues, \n",
    "                                             colorbar=False)\n",
    "disp.ax_.grid(False)"
   ]
  },
  {
   "cell_type": "code",
   "execution_count": null,
   "metadata": {},
   "outputs": [],
   "source": [
    "pay_cols = ['PAY_0'] + [f'PAY_{i}' for i in range(2, 7)] \n",
    "mo_targets = df[pay_cols].copy() \n",
    "mo_targets = mo_targets.swifter.apply(lambda x: (x > \n",
    "0).astype(int), axis=1) \n",
    "mo_features = df[[c for c in df.columns if c not in pay_cols + \n",
    "                  ['default payment next month']]]"
   ]
  },
  {
   "cell_type": "code",
   "execution_count": null,
   "metadata": {},
   "outputs": [],
   "source": [
    "mo_clf = MultiOutputClassifier(LogisticRegression(max_iter=1000), \n",
    "n_jobs=-1) \n",
    "mo_clf.fit(mo_features, mo_targets)"
   ]
  },
  {
   "cell_type": "code",
   "execution_count": null,
   "metadata": {},
   "outputs": [],
   "source": [
    "ml_cm = multilabel_confusion_matrix(mo_targets, \n",
    "mo_clf.predict(mo_features)) \n",
    "for i, cl in enumerate(mo_targets.columns): \n",
    "    f = ConfusionMatrixDisplay(ml_cm[i], display_labels=['on time', 'late']) \n",
    "    f.plot(cmap=plt.cm.Blues, colorbar=False) \n",
    "    plt.title(cl) \n",
    "    plt.grid(False)"
   ]
  },
  {
   "cell_type": "code",
   "execution_count": null,
   "metadata": {},
   "outputs": [],
   "source": [
    "print(classification_report(y_test, \n",
    "                            lr_model.predict(x_test), \n",
    "                            target_names=['no default', \n",
    "'default']))"
   ]
  },
  {
   "cell_type": "code",
   "execution_count": null,
   "metadata": {},
   "outputs": [],
   "source": [
    "f, ax = plt.subplots(1, 1) \n",
    "viz = ClassificationReport(lr_model, \n",
    "                           support=True, \n",
    "                           classes=['no default', 'default'], \n",
    "                           cmap='Blues') \n",
    "viz.score(x_test, y_test) \n",
    "plt.gcf().delaxes(f.axes[1]) \n",
    "viz.show()"
   ]
  },
  {
   "cell_type": "code",
   "execution_count": null,
   "metadata": {},
   "outputs": [],
   "source": [
    "print(classification_report(pay_0_target, \n",
    "                            lr_multi.predict(pay_0_features), \n",
    "                            target_names=['no consumption', \n",
    "                                          'on time', \n",
    "                                          'credit', \n",
    "                                          'late'] \n",
    "                           ) \n",
    "     )"
   ]
  },
  {
   "cell_type": "code",
   "execution_count": null,
   "metadata": {},
   "outputs": [],
   "source": [
    "roc = roc_auc(lr_model, \n",
    "              x_train, \n",
    "              y_train, \n",
    "              x_test, \n",
    "              y_test, \n",
    "              classes=['no default', 'default'], \n",
    "              macro=False, \n",
    "              micro=False)"
   ]
  },
  {
   "cell_type": "code",
   "execution_count": null,
   "metadata": {},
   "outputs": [],
   "source": [
    "roc = roc_auc(lr_multi, \n",
    "              pay_0_features, \n",
    "              pay_0_target, \n",
    "              macro=False, \n",
    "              micro=False)"
   ]
  },
  {
   "cell_type": "code",
   "execution_count": null,
   "metadata": {},
   "outputs": [],
   "source": [
    "roc = roc_auc(lr_model, \n",
    "              x_train, \n",
    "              y_train, \n",
    "              x_test, \n",
    "              y_test, \n",
    "              classes=['no default', 'default'])"
   ]
  },
  {
   "cell_type": "code",
   "execution_count": null,
   "metadata": {},
   "outputs": [],
   "source": [
    "from sklearn.metrics import RocCurveDisplay"
   ]
  },
  {
   "cell_type": "code",
   "execution_count": null,
   "metadata": {},
   "outputs": [],
   "source": [
    "roc = RocCurveDisplay.from_estimator(lr_model, x_test, y_test) \n",
    "plt.plot([0, 1], [0, 1], c='k', linestyle='dotted', label='random model') \n",
    "plt.plot([0, 0, 1], [0, 1, 1], c='k', linestyle='dashed', label='perfect model') \n",
    "plt.legend()"
   ]
  },
  {
   "cell_type": "code",
   "execution_count": null,
   "metadata": {},
   "outputs": [],
   "source": [
    "roc = RocCurveDisplay.from_estimator(lr_model, x_test, y_test, drop_intermediate=False)\n",
    "youdens_idx = np.argmax(roc.tpr - roc.fpr) \n",
    "thresholds = np.unique(lr_model.predict_proba(x_test)[:, 1]) \n",
    "thresholds.sort() \n",
    "thresholds = [1] + list(thresholds[::-1])  \n",
    "y_thresh = thresholds[youdens_idx]"
   ]
  },
  {
   "cell_type": "code",
   "execution_count": null,
   "metadata": {},
   "outputs": [],
   "source": [
    "upper_left_array = np.vstack((np.zeros(roc.tpr.shape[0]), \n",
    "                              np.ones(roc.tpr.shape[0]))).T \n",
    "roc_curve_points = np.vstack((roc.fpr, roc.tpr)).T \n",
    "topleft_idx = np.argmin(np.linalg.norm(upper_left_array - \n",
    "roc_curve_points, \n",
    "                                       axis=1)) \n",
    "tl_thresh = thresholds[topleft_idx]"
   ]
  },
  {
   "cell_type": "code",
   "execution_count": null,
   "metadata": {},
   "outputs": [],
   "source": [
    "dt = discrimination_threshold(lr_model, x_train, y_train) \n",
    "f_idx = dt.cv_scores_['fscore'].argmax() \n",
    "f_thresh = dt.thresholds_[f_idx]"
   ]
  },
  {
   "cell_type": "code",
   "execution_count": null,
   "metadata": {},
   "outputs": [],
   "source": [
    "for t in [y_thresh, tl_thresh, f_thresh]: \n",
    "    print(accuracy_score(y_test, \n",
    "lr_model.predict_proba(x_test)[:, 1] >= t))"
   ]
  },
  {
   "cell_type": "code",
   "execution_count": null,
   "metadata": {},
   "outputs": [],
   "source": [
    "from mlxtend.plotting import plot_confusion_matrix as mlx_plot_cm "
   ]
  },
  {
   "cell_type": "code",
   "execution_count": null,
   "metadata": {},
   "outputs": [],
   "source": [
    "predictions = lr_model.predict_proba(x_test)[:, 1] >= y_thresh \n",
    "mlx_plot_cm(confusion_matrix(y_test, predictions))"
   ]
  },
  {
   "cell_type": "code",
   "execution_count": null,
   "metadata": {},
   "outputs": [],
   "source": [
    "# downsampling"
   ]
  },
  {
   "cell_type": "code",
   "execution_count": null,
   "metadata": {},
   "outputs": [],
   "source": [
    "_, x_sample, _, y_sample = train_test_split(features, \n",
    "                                            targets, \n",
    "                                            test_size=0.1, \n",
    "                                            stratify=targets, \n",
    "                                            random_state=42)"
   ]
  },
  {
   "cell_type": "code",
   "execution_count": null,
   "metadata": {},
   "outputs": [],
   "source": [
    "from imblearn.under_sampling import RandomUnderSampler"
   ]
  },
  {
   "cell_type": "code",
   "execution_count": null,
   "metadata": {},
   "outputs": [],
   "source": [
    "rus = RandomUnderSampler(random_state=0) \n",
    "x_resampled, y_resampled = rus.fit_resample(features, targets)"
   ]
  },
  {
   "cell_type": "code",
   "execution_count": null,
   "metadata": {},
   "outputs": [],
   "source": [
    "# oversampling"
   ]
  },
  {
   "cell_type": "code",
   "execution_count": null,
   "metadata": {},
   "outputs": [],
   "source": [
    "from sklearn.metrics import roc_auc_score \n",
    "from imblearn.over_sampling import RandomOverSampler"
   ]
  },
  {
   "cell_type": "code",
   "execution_count": null,
   "metadata": {},
   "outputs": [],
   "source": [
    "ros = RandomOverSampler(random_state=0) \n",
    "x_resampled, y_resampled = ros.fit_resample(x_train, y_train) \n",
    "lr_model = LogisticRegressionCV(max_iter=5000) \n",
    "lr_model.fit(x_train, y_train)\n",
    "print('unmodified:', \n",
    "      roc_auc_score(y_test, \n",
    "                    lr_model.predict_proba(x_test)[:, 1]) \n",
    "     ) \n",
    "lr_model_rs = LogisticRegressionCV(max_iter=1000) \n",
    "lr_model_rs.fit(x_resampled, y_resampled) \n",
    "print('resampled:', \n",
    "      roc_auc_score(y_test, \n",
    "                    lr_model_rs.predict_proba(x_test)[:, 1]) \n",
    "     ) "
   ]
  },
  {
   "cell_type": "code",
   "execution_count": null,
   "metadata": {},
   "outputs": [],
   "source": [
    "from imblearn.over_sampling import KMeansSMOTE"
   ]
  },
  {
   "cell_type": "code",
   "execution_count": null,
   "metadata": {},
   "outputs": [],
   "source": [
    "kmSMOTE = KMeansSMOTE(k_neighbors=5, \n",
    "                      cluster_balance_threshold=0.2, \n",
    "                      random_state=42, \n",
    "                      n_jobs=-1) \n",
    "x_resampled, y_resampled = kmSMOTE.fit_resample(x_train, \n",
    "y_train) \n",
    "lr_model_rs = LogisticRegressionCV(max_iter=5000) \n",
    "lr_model_rs.fit(x_resampled, y_resampled) \n",
    "print('resampled:', roc_auc_score(y_test, lr_model_rs.predict_proba(x_test)[:, 1]))"
   ]
  },
  {
   "cell_type": "code",
   "execution_count": null,
   "metadata": {},
   "outputs": [],
   "source": [
    "from imblearn.over_sampling import SMOTE, BorderlineSMOTE, SVMSMOTE, ADASYN \n",
    "from imblearn.combine import SMOTEENN, SMOTETomek"
   ]
  },
  {
   "cell_type": "code",
   "execution_count": null,
   "metadata": {},
   "outputs": [],
   "source": [
    "samplers = [ \n",
    "    SMOTE(random_state=42), \n",
    "    BorderlineSMOTE(random_state=42, kind=\"borderline-1\"), \n",
    "    BorderlineSMOTE(random_state=42, kind=\"borderline-2\"), \n",
    "    SVMSMOTE(random_state=42), \n",
    "    ADASYN(random_state=42), \n",
    "    SMOTEENN(random_state=42), \n",
    "    SMOTETomek(random_state=42) \n",
    "]"
   ]
  },
  {
   "cell_type": "code",
   "execution_count": null,
   "metadata": {},
   "outputs": [],
   "source": [
    "from sklearn.preprocessing import StandardScaler"
   ]
  },
  {
   "cell_type": "code",
   "execution_count": null,
   "metadata": {},
   "outputs": [],
   "source": [
    "scaler = StandardScaler()\n",
    "x_train_scaled = scaler.fit_transform(x_train.astype(np.float64))\n",
    "x_test_scaled = scaler.transform(x_test.astype(np.float64))\n"
   ]
  },
  {
   "cell_type": "code",
   "execution_count": null,
   "metadata": {},
   "outputs": [],
   "source": [
    "for s in samplers:\n",
    "    x_resampled, y_resampled = s.fit_resample(x_train_scaled, y_train)\n",
    "    lr_model_rs = LogisticRegressionCV(max_iter=5000, solver='saga', tol=1e-3)\n",
    "    lr_model_rs.fit(x_resampled, y_resampled)\n",
    "    ra_score = roc_auc_score(y_test, lr_model_rs.predict_proba(x_test_scaled)[:, 1])\n",
    "    print(f'{str(s):<55} {ra_score}')"
   ]
  }
 ],
 "metadata": {
  "kernelspec": {
   "display_name": "Python 3",
   "language": "python",
   "name": "python3"
  },
  "language_info": {
   "codemirror_mode": {
    "name": "ipython",
    "version": 3
   },
   "file_extension": ".py",
   "mimetype": "text/x-python",
   "name": "python",
   "nbconvert_exporter": "python",
   "pygments_lexer": "ipython3",
   "version": "3.12.9"
  }
 },
 "nbformat": 4,
 "nbformat_minor": 2
}
