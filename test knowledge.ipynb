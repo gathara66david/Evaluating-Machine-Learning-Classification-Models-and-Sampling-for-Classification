{
 "cells": [
  {
   "cell_type": "code",
   "execution_count": null,
   "metadata": {},
   "outputs": [],
   "source": [
    "\"\"\"To test your knowledge, use the same \n",
    "previous chapter (also available in the\n",
    " loan_data.csv dataset from the\n",
    " Chapter12/test_your_knowledge/data folder in this book's GitHub\n",
    " repository) and our ML classification models from the Test your knowledge\n",
    " section in the previous chapter trained to predict the \n",
    "TARGET column.\n",
    " Compare the models using metrics and select the best one. Try balancing\n",
    " the classes in the data and see whether this improves performance. Finally,\n",
    " select the ideal threshold for rounding probability predictions and plot the\n",
    " confusion matrix with this ideal threshold. Write a short analysis of the\n",
    " results and process.\"\"\""
   ]
  }
 ],
 "metadata": {
  "language_info": {
   "name": "python"
  }
 },
 "nbformat": 4,
 "nbformat_minor": 2
}
